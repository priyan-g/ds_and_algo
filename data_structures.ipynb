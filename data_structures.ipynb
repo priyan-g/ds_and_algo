{
 "cells": [
  {
   "cell_type": "markdown",
   "metadata": {},
   "source": [
    "# Data Structures\n",
    "-- LinkedList\n",
    "-- Double LinkList\n",
    "--BST\n",
    "--Stack\n",
    "--Queue\n",
    "--Graph"
   ]
  },
  {
   "cell_type": "markdown",
   "metadata": {},
   "source": []
  },
  {
   "cell_type": "markdown",
   "metadata": {},
   "source": [
    "### LinkedList"
   ]
  },
  {
   "cell_type": "markdown",
   "metadata": {},
   "source": [
    "class Node():\n",
    "    def __init__(self,val=0, next=None, prev=None)\n",
    "        self.val = val\n",
    "        self.next = next\n",
    "        self.prev = prev\n",
    "\n",
    "class LinkedList():\n",
    "    def __init__(self):\n",
    "        self.head = None\n",
    "        self.len = 0\n",
    "\n",
    "    def addNode(self, val):\n",
    "        pass\n",
    "\n",
    "    def delNode(self, val):\n",
    "        pass\n",
    "\n",
    "    def findVal(self, val):\n",
    "        pass\n",
    "\n",
    "    "
   ]
  }
 ],
 "metadata": {
  "language_info": {
   "name": "python"
  }
 },
 "nbformat": 4,
 "nbformat_minor": 2
}
